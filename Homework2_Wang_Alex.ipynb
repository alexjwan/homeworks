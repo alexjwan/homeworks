{
  "nbformat": 4,
  "nbformat_minor": 0,
  "metadata": {
    "colab": {
      "name": "Homework2_Wang_Alex.ipynb",
      "provenance": [],
      "collapsed_sections": []
    },
    "kernelspec": {
      "name": "python3",
      "display_name": "Python 3"
    }
  },
  "cells": [
    {
      "cell_type": "markdown",
      "metadata": {
        "id": "bNsIruOzI4iF"
      },
      "source": [
        "## **Homework 2**\n",
        "\n",
        "### Create a copy of the notebook to start answering the questions. Name your notebook in the format HW2_lastname_firstname.ipynb to facilitate the grading process. \n",
        "\n",
        "### Answer all the questions, test your code to ensure there are no errors and the results are as expected. Once you have answered all the questions, save the final copy, then go to File-> click on Download.ipynb. Once the local copy has been downloaded, submit your file on Blackboard under the corresponding assignment section. Also provide us a link to your notebook during submission. \n",
        "\n",
        "### **The due date of this homework is 02/12/2021 (Friday).**\n",
        "\n",
        "### Please ensure you follow all the steps mentioned in the homework.\n",
        "\n",
        "### All the questions have a sample input and output to help you understand the question.\n",
        "\n",
        "### You can submit your solutions any number of times until the deadline.\n"
      ]
    },
    {
      "cell_type": "markdown",
      "metadata": {
        "id": "U3Yz3s2uio1F"
      },
      "source": [
        "**Q1. Lets consider your data is like the below cell:**\n",
        "\n",
        "**Q1-1**: Write a program that create a dataframe from the data.\n",
        "\n",
        "**Q1-2:** Select people that are psychologist or teacher and their number of cars is greater than their family size.\n",
        "\n",
        "**Q1-3:** Select people who have at most 2 family members and at least 1 car.\n",
        "\n",
        "**Q1-4:** Write a code that get number of unique jobs in this dataset.\n",
        "\n",
        "\n",
        "\n"
      ]
    },
    {
      "cell_type": "code",
      "metadata": {
        "id": "yR8lcOtcjxXD"
      },
      "source": [
        "data = {\"name\": [\"Joseph\", \"Jacob\", \"Sam\", \"Jesee\", \"Ryan\", \"Lisa\", \"Lee\"],\n",
        "        \"job\": [\"teacher\", \"psychologist\", \"data scientist\", \"software developer\", \"psychologist\", \"psychologist\", \"teacher\"],\n",
        "        \"family_size\": [3, 2, 1, 4, 2, 3, 2],\n",
        "        \"num_cars\": [3, 1, 1, 2, 2, 4, 1]}"
      ],
      "execution_count": null,
      "outputs": []
    },
    {
      "cell_type": "code",
      "metadata": {
        "id": "Youi5qMaP34p",
        "colab": {
          "base_uri": "https://localhost:8080/"
        },
        "outputId": "33a2afb4-b02f-4869-953c-511dfdd44630"
      },
      "source": [
        "# Type your solution here\n",
        "import pandas as pd\n",
        "import numpy as np\n",
        "\n",
        "df = pd.DataFrame(data)\n",
        "print(df, end='\\n\\n')\n",
        "\n",
        "job_psychologist = df['job'] == 'psychologist'\n",
        "num_cars_greater_than_family_size = df['num_cars'] > df['family_size']\n",
        "print(df[job_psychologist & num_cars_greater_than_family_size], end='\\n\\n') \n",
        "\n",
        "at_most_two_fam = df['family_size'] <= 2\n",
        "at_least_one_car = df['num_cars'] >= 1\n",
        "print(df[at_most_two_fam & at_least_one_car], end='\\n\\n')\n",
        "\n",
        "print(len(pd.unique(df['job'])))"
      ],
      "execution_count": null,
      "outputs": [
        {
          "output_type": "stream",
          "text": [
            "     name                 job  family_size  num_cars\n",
            "0  Joseph             teacher            3         3\n",
            "1   Jacob        psychologist            2         1\n",
            "2     Sam      data scientist            1         1\n",
            "3   Jesee  software developer            4         2\n",
            "4    Ryan        psychologist            2         2\n",
            "5    Lisa        psychologist            3         4\n",
            "6     Lee             teacher            2         1\n",
            "\n",
            "   name           job  family_size  num_cars\n",
            "5  Lisa  psychologist            3         4\n",
            "\n",
            "    name             job  family_size  num_cars\n",
            "1  Jacob    psychologist            2         1\n",
            "2    Sam  data scientist            1         1\n",
            "4   Ryan    psychologist            2         2\n",
            "6    Lee         teacher            2         1\n",
            "\n",
            "4\n"
          ],
          "name": "stdout"
        }
      ]
    },
    {
      "cell_type": "markdown",
      "metadata": {
        "id": "Ow6nG8k4l91X"
      },
      "source": [
        "**Q2. Lets consider you have two series like the below cell. Compute the mean of weights of each fruit.**"
      ]
    },
    {
      "cell_type": "code",
      "metadata": {
        "id": "u-X_DoOzVLLB"
      },
      "source": [
        "import numpy as np\n",
        "fruit = pd.Series(np.random.choice(['apple', 'banana', 'carrot'], 10))\n",
        "weights = pd.Series(np.linspace(1, 10, 10))"
      ],
      "execution_count": null,
      "outputs": []
    },
    {
      "cell_type": "code",
      "metadata": {
        "id": "S419nzYnpU__",
        "colab": {
          "base_uri": "https://localhost:8080/"
        },
        "outputId": "2f53c74e-734b-4076-871d-88ab84ddf600"
      },
      "source": [
        "# Type your solution here\n",
        "\n",
        "df = pd.DataFrame(dict(fruit = fruit, weight = weights))\n",
        "print(df, end='\\n\\n')\n",
        "\n",
        "dfBanana = df[df.fruit == 'banana']\n",
        "dfApple = df[df.fruit == 'apple']\n",
        "dfCarrot = df[df.fruit == 'carrot']\n",
        "\n",
        "dfBanana_mean = np.mean(dfBanana)\n",
        "print('average banana weight = ' + str(dfBanana_mean))\n",
        "\n",
        "dfApple_mean = np.mean(dfApple)\n",
        "print('average apple weight = ' + str(dfApple_mean))\n",
        "\n",
        "dfCarrot_mean = np.mean(dfCarrot)\n",
        "print('average carrot weight = ' + str(dfCarrot_mean))"
      ],
      "execution_count": null,
      "outputs": [
        {
          "output_type": "stream",
          "text": [
            "    fruit  weight\n",
            "0  banana     1.0\n",
            "1  banana     2.0\n",
            "2  banana     3.0\n",
            "3   apple     4.0\n",
            "4   apple     5.0\n",
            "5  carrot     6.0\n",
            "6  banana     7.0\n",
            "7   apple     8.0\n",
            "8  carrot     9.0\n",
            "9  banana    10.0\n",
            "\n",
            "average banana weight = weight    4.6\n",
            "dtype: float64\n",
            "average apple weight = weight    5.666667\n",
            "dtype: float64\n",
            "average carrot weight = weight    7.5\n",
            "dtype: float64\n"
          ],
          "name": "stdout"
        }
      ]
    },
    {
      "cell_type": "markdown",
      "metadata": {
        "id": "g4lKaPIhtVrt"
      },
      "source": [
        "**Q3. Consider the below course_name array:**\n",
        "\n",
        "**Q3-1**: Write a NumPy program to get the indices of the sorted elements of **course_name** array.\n",
        "\n",
        "**Q3-2:** Write numpy code to check whether each element of **course_name** array starts with \"P\".\n"
      ]
    },
    {
      "cell_type": "code",
      "metadata": {
        "id": "RUP_jp2KtVrx"
      },
      "source": [
        "import numpy as np\n",
        "course_name = np.array(['Python', 'JS', 'examples', 'PHP', 'html'])"
      ],
      "execution_count": null,
      "outputs": []
    },
    {
      "cell_type": "code",
      "metadata": {
        "id": "U1i27POxv-o_",
        "colab": {
          "base_uri": "https://localhost:8080/"
        },
        "outputId": "1dc67038-7db9-4d42-8f20-0b28f251c4cb"
      },
      "source": [
        "# Type your solution here\n",
        "\n",
        "course_name_lower = []\n",
        "for e in course_name:\n",
        "  e_lower = e.lower()\n",
        "  course_name_lower.append(e_lower)\n",
        "sort = np.argsort(course_name_lower)\n",
        "print(sort)\n",
        "\n",
        "start_with_p = []\n",
        "for e in course_name:\n",
        "  for letter in e:\n",
        "    if letter.lower() == 'p':\n",
        "      start_with_p.append(e)\n",
        "    else:\n",
        "      break\n",
        "print(start_with_p)"
      ],
      "execution_count": null,
      "outputs": [
        {
          "output_type": "stream",
          "text": [
            "[2 4 1 3 0]\n",
            "['Python', 'PHP']\n"
          ],
          "name": "stdout"
        }
      ]
    },
    {
      "cell_type": "markdown",
      "metadata": {
        "id": "sUFItNFOxwkz"
      },
      "source": [
        "**Q4. Consider the below student_id array:**\n",
        "\n",
        "**Q4-1:** Reverse the **student_id** array. Print both original and reversed array.\n",
        "\n",
        "**Q4-2:** Get the 3-largest values of **student_id** array."
      ]
    },
    {
      "cell_type": "code",
      "metadata": {
        "id": "Rl5qzEjFv0nw"
      },
      "source": [
        "import numpy as np\n",
        "student_id = np.array([1023, 5202, 6230, 1671, 1682, 5241, 4532])"
      ],
      "execution_count": 1,
      "outputs": []
    },
    {
      "cell_type": "code",
      "metadata": {
        "id": "EetvHGrUxMCC",
        "colab": {
          "base_uri": "https://localhost:8080/"
        },
        "outputId": "74249f16-ebcb-4e1a-a5db-a8639b440f15"
      },
      "source": [
        "# Type your solution here\n",
        "\n",
        "print(student_id)\n",
        "student_id_reverse = np.flip(student_id)\n",
        "print(student_id_reverse)\n",
        "\n",
        "student_id_sort = np.sort(student_id)\n",
        "student_id_sort_reverse = student_id_sort[::-1]\n",
        "student_id_top_3 = student_id_sort_reverse[0:3]\n",
        "print(student_id_top_3)"
      ],
      "execution_count": 8,
      "outputs": [
        {
          "output_type": "stream",
          "text": [
            "[1023 5202 6230 1671 1682 5241 4532]\n",
            "[4532 5241 1682 1671 6230 5202 1023]\n",
            "[6230 5241 5202]\n"
          ],
          "name": "stdout"
        }
      ]
    },
    {
      "cell_type": "markdown",
      "metadata": {
        "id": "uKRyDVuW6B19"
      },
      "source": [
        "# **Q5: Write a numpy program to print sum of all the multiples of 3 or 5 below 100**"
      ]
    },
    {
      "cell_type": "code",
      "metadata": {
        "id": "ZIixq1gz6OK3",
        "colab": {
          "base_uri": "https://localhost:8080/"
        },
        "outputId": "a5b6bbe9-5613-483b-f296-7f7bbddefd6f"
      },
      "source": [
        "# Type your solution here\n",
        "\n",
        "multiple_3 = np.arange(0,100,3)\n",
        "multiple_5 = np.arange(0,100,5)\n",
        "\n",
        "sum_3 = np.sum(multiple_3)\n",
        "sum_5 = np.sum(multiple_5)\n",
        "total_sum = sum_3 + sum_5 - 30 - 60 - 90 #because these numbers are repeats\n",
        "print(total_sum)\n",
        "\n",
        "# Hint: you can use arange to start off"
      ],
      "execution_count": 16,
      "outputs": [
        {
          "output_type": "stream",
          "text": [
            "2453\n"
          ],
          "name": "stdout"
        }
      ]
    },
    {
      "cell_type": "markdown",
      "metadata": {
        "id": "2CWJOsP24c34"
      },
      "source": [
        "**Q6. Consider the below array.**\n",
        "\n",
        "Q6.1. Write a code to swap column 1 with column 2.\n",
        "\n",
        "Q6.2. Write a code to swap row 0 with row 1."
      ]
    },
    {
      "cell_type": "code",
      "metadata": {
        "id": "3OG6X5Eg5KSM",
        "colab": {
          "base_uri": "https://localhost:8080/"
        },
        "outputId": "233d655d-48ea-47a7-fd97-f2d379f8b84e"
      },
      "source": [
        "import numpy as np\n",
        "\n",
        "arr1 = np.arange(12).reshape(3,4)\n",
        "print(arr1)"
      ],
      "execution_count": 30,
      "outputs": [
        {
          "output_type": "stream",
          "text": [
            "[[ 0  1  2  3]\n",
            " [ 4  5  6  7]\n",
            " [ 8  9 10 11]]\n"
          ],
          "name": "stdout"
        }
      ]
    },
    {
      "cell_type": "code",
      "metadata": {
        "id": "Q-Q91DpO5YYW",
        "colab": {
          "base_uri": "https://localhost:8080/"
        },
        "outputId": "fbff8590-9b64-46c6-8f05-f2bc91cf870c"
      },
      "source": [
        "# Type your solution here\n",
        "\n",
        "arr1[:,[2,1]] = arr1[:,[1,2]]\n",
        "print(arr1)\n",
        "\n",
        "arr2 = np.arange(12).reshape(3,4)\n",
        "arr2[[1,0],:] = arr2[[0,1],:]\n",
        "print(arr2)"
      ],
      "execution_count": 31,
      "outputs": [
        {
          "output_type": "stream",
          "text": [
            "[[ 0  2  1  3]\n",
            " [ 4  6  5  7]\n",
            " [ 8 10  9 11]]\n",
            "[[ 4  5  6  7]\n",
            " [ 0  1  2  3]\n",
            " [ 8  9 10 11]]\n"
          ],
          "name": "stdout"
        }
      ]
    }
  ]
}